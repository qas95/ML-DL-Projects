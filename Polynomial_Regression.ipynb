{
  "nbformat": 4,
  "nbformat_minor": 0,
  "metadata": {
    "colab": {
      "name": "Polynomial Regression.ipynb",
      "provenance": [],
      "collapsed_sections": [],
      "authorship_tag": "ABX9TyOOySVOLTj3Sz3EtpWk5srw",
      "include_colab_link": true
    },
    "kernelspec": {
      "name": "python3",
      "display_name": "Python 3"
    }
  },
  "cells": [
    {
      "cell_type": "markdown",
      "metadata": {
        "id": "view-in-github",
        "colab_type": "text"
      },
      "source": [
        "<a href=\"https://colab.research.google.com/github/qas95/ML-DL-Projects/blob/main/Polynomial_Regression.ipynb\" target=\"_parent\"><img src=\"https://colab.research.google.com/assets/colab-badge.svg\" alt=\"Open In Colab\"/></a>"
      ]
    },
    {
      "cell_type": "code",
      "metadata": {
        "id": "ZdoE-cMQKvMH"
      },
      "source": [
        "import pandas as pd\n",
        "import numpy as np\n",
        "import matplotlib.pyplot as plt\n",
        "from keras.models import Sequential\n",
        "from keras.layers import Dense\n",
        "from keras.optimizers import Adam"
      ],
      "execution_count": 21,
      "outputs": []
    },
    {
      "cell_type": "code",
      "metadata": {
        "colab": {
          "base_uri": "https://localhost:8080/",
          "height": 282
        },
        "id": "uPJY7XtfK-XD",
        "outputId": "94278ca4-9a00-4a6a-feac-2e0474dc5497"
      },
      "source": [
        "X = np.linspace(1,6,500)\n",
        "Y = np.sin(-X) + np.random.uniform(-0.5,0.5,500)\n",
        "plt.scatter(X, Y)"
      ],
      "execution_count": 19,
      "outputs": [
        {
          "output_type": "execute_result",
          "data": {
            "text/plain": [
              "<matplotlib.collections.PathCollection at 0x7f8c4236cda0>"
            ]
          },
          "metadata": {
            "tags": []
          },
          "execution_count": 19
        },
        {
          "output_type": "display_data",
          "data": {
            "image/png": "[encoded data removed]",
            "text/plain": [
              "<Figure size 432x288 with 1 Axes>"
            ]
          },
          "metadata": {
            "tags": [],
            "needs_background": "light"
          }
        }
      ]
    },
    {
      "cell_type": "code",
      "metadata": {
        "colab": {
          "base_uri": "https://localhost:8080/"
        },
        "id": "fNUYsbO3LHsC",
        "outputId": "1213896a-e17d-4140-91b2-e4ff88665c9c"
      },
      "source": [
        "Y.shape"
      ],
      "execution_count": 20,
      "outputs": [
        {
          "output_type": "execute_result",
          "data": {
            "text/plain": [
              "(500,)"
            ]
          },
          "metadata": {
            "tags": []
          },
          "execution_count": 20
        }
      ]
    },
    {
      "cell_type": "code",
      "metadata": {
        "id": "-D6D0WOrM03W"
      },
      "source": [
        "model = Sequential()\n",
        "model.add(Dense(50, activation = 'sigmoid', input_dim = 1))\n",
        "model.add(Dense(30, activation = 'sigmoid'))\n",
        "model.add(Dense(1))\n",
        "model.compile(optimizer = Adam(lr = 0.05), loss = 'mse')"
      ],
      "execution_count": 53,
      "outputs": []
    },
    {
      "cell_type": "code",
      "metadata": {
        "colab": {
          "base_uri": "https://localhost:8080/"
        },
        "id": "HuGRe3nzN2NU",
        "outputId": "d1ff45bc-b027-4b21-8de5-ad5c8443b379"
      },
      "source": [
        "model.summary()"
      ],
      "execution_count": 54,
      "outputs": [
        {
          "output_type": "stream",
          "text": [
            "Model: \"sequential_7\"\n",
            "_________________________________________________________________\n",
            "Layer (type)                 Output Shape              Param #   \n",
            "=================================================================\n",
            "dense_21 (Dense)             (None, 50)                100       \n",
            "_________________________________________________________________\n",
            "dense_22 (Dense)             (None, 30)                1530      \n",
            "_________________________________________________________________\n",
            "dense_23 (Dense)             (None, 1)                 31        \n",
            "=================================================================\n",
            "Total params: 1,661\n",
            "Trainable params: 1,661\n",
            "Non-trainable params: 0\n",
            "_________________________________________________________________\n"
          ],
          "name": "stdout"
        }
      ]
    },
    {
      "cell_type": "code",
      "metadata": {
        "colab": {
          "base_uri": "https://localhost:8080/"
        },
        "id": "osvHgapKN35x",
        "outputId": "ab8ac0fa-ad6d-47a4-f071-408a5cfe2020"
      },
      "source": [
        "model.fit(X,Y, epochs = 40, verbose = 1)"
      ],
      "execution_count": 55,
      "outputs": [
        {
          "output_type": "stream",
          "text": [
            "Epoch 1/40\n",
            "16/16 [==============================] - 0s 2ms/step - loss: 1.7096\n",
            "Epoch 2/40\n",
            "16/16 [==============================] - 0s 2ms/step - loss: 0.4653\n",
            "Epoch 3/40\n",
            "16/16 [==============================] - 0s 1ms/step - loss: 0.2506\n",
            "Epoch 4/40\n",
            "16/16 [==============================] - 0s 2ms/step - loss: 0.1632\n",
            "Epoch 5/40\n",
            "16/16 [==============================] - 0s 1ms/step - loss: 0.1527\n",
            "Epoch 6/40\n",
            "16/16 [==============================] - 0s 1ms/step - loss: 0.1568\n",
            "Epoch 7/40\n",
            "16/16 [==============================] - 0s 1ms/step - loss: 0.1533\n",
            "Epoch 8/40\n",
            "16/16 [==============================] - 0s 2ms/step - loss: 0.1343\n",
            "Epoch 9/40\n",
            "16/16 [==============================] - 0s 1ms/step - loss: 0.1470\n",
            "Epoch 10/40\n",
            "16/16 [==============================] - 0s 1ms/step - loss: 0.1395\n",
            "Epoch 11/40\n",
            "16/16 [==============================] - 0s 2ms/step - loss: 0.1453\n",
            "Epoch 12/40\n",
            "16/16 [==============================] - 0s 2ms/step - loss: 0.1306\n",
            "Epoch 13/40\n",
            "16/16 [==============================] - 0s 1ms/step - loss: 0.1460\n",
            "Epoch 14/40\n",
            "16/16 [==============================] - 0s 1ms/step - loss: 0.1233\n",
            "Epoch 15/40\n",
            "16/16 [==============================] - 0s 2ms/step - loss: 0.1284\n",
            "Epoch 16/40\n",
            "16/16 [==============================] - 0s 2ms/step - loss: 0.1286\n",
            "Epoch 17/40\n",
            "16/16 [==============================] - 0s 2ms/step - loss: 0.1215\n",
            "Epoch 18/40\n",
            "16/16 [==============================] - 0s 1ms/step - loss: 0.1213\n",
            "Epoch 19/40\n",
            "16/16 [==============================] - 0s 2ms/step - loss: 0.1205\n",
            "Epoch 20/40\n",
            "16/16 [==============================] - 0s 1ms/step - loss: 0.1055\n",
            "Epoch 21/40\n",
            "16/16 [==============================] - 0s 2ms/step - loss: 0.1167\n",
            "Epoch 22/40\n",
            "16/16 [==============================] - 0s 2ms/step - loss: 0.1144\n",
            "Epoch 23/40\n",
            "16/16 [==============================] - 0s 1ms/step - loss: 0.1076\n",
            "Epoch 24/40\n",
            "16/16 [==============================] - 0s 1ms/step - loss: 0.1086\n",
            "Epoch 25/40\n",
            "16/16 [==============================] - 0s 2ms/step - loss: 0.1193\n",
            "Epoch 26/40\n",
            "16/16 [==============================] - 0s 2ms/step - loss: 0.1217\n",
            "Epoch 27/40\n",
            "16/16 [==============================] - 0s 2ms/step - loss: 0.1194\n",
            "Epoch 28/40\n",
            "16/16 [==============================] - 0s 2ms/step - loss: 0.1132\n",
            "Epoch 29/40\n",
            "16/16 [==============================] - 0s 1ms/step - loss: 0.1088\n",
            "Epoch 30/40\n",
            "16/16 [==============================] - 0s 2ms/step - loss: 0.1095\n",
            "Epoch 31/40\n",
            "16/16 [==============================] - 0s 2ms/step - loss: 0.1111\n",
            "Epoch 32/40\n",
            "16/16 [==============================] - 0s 1ms/step - loss: 0.1083\n",
            "Epoch 33/40\n",
            "16/16 [==============================] - 0s 1ms/step - loss: 0.1011\n",
            "Epoch 34/40\n",
            "16/16 [==============================] - 0s 1ms/step - loss: 0.1181\n",
            "Epoch 35/40\n",
            "16/16 [==============================] - 0s 3ms/step - loss: 0.1078\n",
            "Epoch 36/40\n",
            "16/16 [==============================] - 0s 1ms/step - loss: 0.0973\n",
            "Epoch 37/40\n",
            "16/16 [==============================] - 0s 2ms/step - loss: 0.0949\n",
            "Epoch 38/40\n",
            "16/16 [==============================] - 0s 2ms/step - loss: 0.1023\n",
            "Epoch 39/40\n",
            "16/16 [==============================] - 0s 2ms/step - loss: 0.0997\n",
            "Epoch 40/40\n",
            "16/16 [==============================] - 0s 2ms/step - loss: 0.0992\n"
          ],
          "name": "stdout"
        },
        {
          "output_type": "execute_result",
          "data": {
            "text/plain": [
              "<tensorflow.python.keras.callbacks.History at 0x7f8c054bfcc0>"
            ]
          },
          "metadata": {
            "tags": []
          },
          "execution_count": 55
        }
      ]
    },
    {
      "cell_type": "code",
      "metadata": {
        "id": "JP2PGCNGN54B"
      },
      "source": [
        "preds = model.predict(X)"
      ],
      "execution_count": 56,
      "outputs": []
    },
    {
      "cell_type": "code",
      "metadata": {
        "colab": {
          "base_uri": "https://localhost:8080/",
          "height": 265
        },
        "id": "Fe1dhWPLOKaD",
        "outputId": "828f7fc4-65aa-4c20-9ce7-9bd7310e3494"
      },
      "source": [
        "plt.scatter(X, Y)\n",
        "plt.plot(X,preds, marker = 'o', color = 'r')\n",
        "plt.show()"
      ],
      "execution_count": 65,
      "outputs": [
        {
          "output_type": "display_data",
          "data": {
            "image/png": "[encoded data removed]",
            "text/plain": [
              "<Figure size 432x288 with 1 Axes>"
            ]
          },
          "metadata": {
            "tags": [],
            "needs_background": "light"
          }
        }
      ]
    },
    {
      "cell_type": "code",
      "metadata": {
        "id": "TKBwe8YnOLzB"
      },
      "source": [
        ""
      ],
      "execution_count": null,
      "outputs": []
    }
  ]
}